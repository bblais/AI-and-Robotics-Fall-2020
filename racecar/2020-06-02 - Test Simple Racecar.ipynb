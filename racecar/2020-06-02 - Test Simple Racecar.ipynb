{
 "cells": [
  {
   "cell_type": "code",
   "execution_count": 1,
   "metadata": {},
   "outputs": [
    {
     "name": "stdout",
     "output_type": "stream",
     "text": [
      "joint[ 0 ]= (0, b'left_steering_hinge_joint', 0, 7, 6, 1, 0.0, 0.0, -1.0, 1.0, 10.0, 100.0, b'left_steering_hinge', (-1.0, 0.0, 0.0), (0.125, 0.1, 0.0), (0.0, -0.7071080798594735, 0.0, 0.7071054825112364), -1)\n",
      "joint[ 1 ]= (1, b'left_front_wheel_joint', 0, 8, 7, 1, 0.0, 0.0, 0.0, -1.0, 10.0, 100.0, b'left_front_wheel', (0.0, 0.0, -1.0), (0.0, 0.0, 0.0), (-0.7071080798594735, 0.0, 0.0, 0.7071054825112364), 0)\n",
      "joint[ 2 ]= (2, b'right_steering_hinge_joint', 0, 9, 8, 1, 0.0, 0.0, -1.0, 1.0, 10.0, 100.0, b'right_steering_hinge', (-1.0, 0.0, 0.0), (0.125, -0.1, 0.0), (0.0, -0.7071080798594735, 0.0, 0.7071054825112364), -1)\n",
      "joint[ 3 ]= (3, b'right_front_wheel_joint', 0, 10, 9, 1, 0.0, 0.0, 0.0, -1.0, 10.0, 100.0, b'right_front_wheel', (0.0, 0.0, -1.0), (0.0, 0.0, 0.0), (-0.7071080798594735, 0.0, 0.0, 0.7071054825112364), 2)\n",
      "joint[ 4 ]= (4, b'hokuyo_joint', 4, -1, -1, 0, 0.0, 0.0, 0.0, -1.0, 0.0, 0.0, b'laser', (0.0, 0.0, 0.0), (0.065, 0.0, 0.075), (0.0, 0.0, 0.0, 1.0), -1)\n",
      "joint[ 5 ]= (5, b'zed_camera_joint', 4, -1, -1, 0, 0.0, 0.0, 0.0, -1.0, 0.0, 0.0, b'zed_camera_link', (0.0, 0.0, 0.0), (0.19, 0.0, 0.04), (0.0, 0.0, 0.0, 1.0), -1)\n",
      "joint[ 6 ]= (6, b'zed_camera_left_joint', 4, -1, -1, 0, 0.0, 0.0, 0.0, -1.0, 0.0, 0.0, b'camera_link', (0.0, 0.0, 0.0), (0.0, 0.06, 0.0), (0.0, 0.0, 0.0, 1.0), 5)\n",
      "joint[ 7 ]= (7, b'zed_camera_right_joint', 4, -1, -1, 0, 0.0, 0.0, 0.0, -1.0, 0.0, 0.0, b'zed_camera_right_link', (0.0, 0.0, 0.0), (0.0, -0.06, 0.0), (0.0, 0.0, 0.0, 1.0), 5)\n",
      "joint[ 8 ]= (8, b'diff_ring_chassis', 0, 11, 10, 1, 0.0, 0.0, 0.0, -1.0, 0.0, 0.0, b'diff_ring', (0.0, 1.0, 0.0), (-0.2, 0.0, 0.0), (0.0, 0.0, 0.0, 1.0), -1)\n",
      "joint[ 9 ]= (9, b'diff_spiderA_ring', 0, 12, 11, 1, 0.0, 0.0, 0.0, -1.0, 0.0, 0.0, b'diff_spiderA', (0.0, 1.0, 0.0), (0.0, 0.0, 0.0), (0.0, 0.0, -0.7071063120935576, 0.7071072502792263), 8)\n",
      "joint[ 10 ]= (10, b'diff_spiderB_ring', 0, 13, 12, 1, 0.0, 0.0, 0.0, -1.0, 0.0, 0.0, b'diff_spiderB', (0.0, 1.0, 0.0), (0.0, 0.0, 0.0), (0.0, 0.0, 0.7071063120935576, 0.7071072502792263), 8)\n",
      "joint[ 11 ]= (11, b'diff_sideA_ring', 0, 14, 13, 1, 0.0, 0.0, 0.0, -1.0, 0.0, 0.0, b'diff_sideA', (0.0, 1.0, 0.0), (0.0, 0.0, 0.0), (0.0, 0.0, 0.0, 1.0), 8)\n",
      "joint[ 12 ]= (12, b'left_rear_wheel_joint', 4, -1, -1, 0, 0.0, 0.0, 0.0, -1.0, 0.0, 0.0, b'left_rear_wheel', (0.0, 0.0, 0.0), (0.0, 0.1, 0.0), (-0.7071080798594735, 0.0, 0.0, 0.7071054825112364), 11)\n",
      "joint[ 13 ]= (13, b'diff_sideB_ring', 0, 15, 14, 1, 0.0, 0.0, 0.0, -1.0, 0.0, 0.0, b'diff_sideB', (0.0, 1.0, 0.0), (0.0, 0.0, 0.0), (0.0, 0.0, 0.0, 1.0), 8)\n",
      "joint[ 14 ]= (14, b'right_rear_wheel_joint', 4, -1, -1, 0, 0.0, 0.0, 0.0, -1.0, 0.0, 0.0, b'right_rear_wheel', (0.0, 0.0, 0.0), (0.0, -0.1, 0.0), (-0.7071080798594735, 0.0, 0.0, 0.7071054825112364), 13)\n",
      "joint[ 15 ]= (15, b'diff2_ring_chassis', 0, 16, 15, 1, 0.0, 0.0, 0.0, -1.0, 0.0, 0.0, b'diff2_ring', (0.0, 1.0, 0.0), (0.12, 0.0, 0.0), (0.0, 0.0, 0.0, 1.0), -1)\n",
      "joint[ 16 ]= (16, b'diff2_spiderA_ring', 0, 17, 16, 1, 0.0, 0.0, 0.0, -1.0, 0.0, 0.0, b'diff2_spiderA', (0.0, 1.0, 0.0), (0.0, 0.0, 0.0), (0.0, 0.0, -0.7071063120935576, 0.7071072502792263), 15)\n",
      "joint[ 17 ]= (17, b'diff2_spiderB_ring', 0, 18, 17, 1, 0.0, 0.0, 0.0, -1.0, 0.0, 0.0, b'diff2_spiderB', (0.0, 1.0, 0.0), (0.0, 0.0, 0.0), (0.0, 0.0, 0.7071063120935576, 0.7071072502792263), 15)\n",
      "joint[ 18 ]= (18, b'diff2_sideA_ring', 0, 19, 18, 1, 0.0, 0.0, 0.0, -1.0, 0.0, 0.0, b'diff2_sideA', (0.0, 1.0, 0.0), (0.0, 0.0, 0.0), (0.0, 0.0, 0.0, 1.0), 15)\n",
      "joint[ 19 ]= (19, b'diff2_sideB_ring', 0, 20, 19, 1, 0.0, 0.0, 0.0, -1.0, 0.0, 0.0, b'diff2_sideB', (0.0, 1.0, 0.0), (0.0, 0.0, 0.0), (0.0, 0.0, 0.0, 1.0), 15)\n",
      "0.0 50.0\n",
      "joint[ 0 ]= (0, b'left_steering_hinge_joint', 0, 7, 6, 1, 0.0, 0.0, -1.0, 1.0, 10.0, 100.0, b'left_steering_hinge', (-1.0, 0.0, 0.0), (0.125, 0.1, 0.0), (0.0, -0.7071080798594735, 0.0, 0.7071054825112364), -1)\n",
      "joint[ 1 ]= (1, b'left_front_wheel_joint', 0, 8, 7, 1, 0.0, 0.0, 0.0, -1.0, 10.0, 100.0, b'left_front_wheel', (0.0, 0.0, -1.0), (0.0, 0.0, 0.0), (-0.7071080798594735, 0.0, 0.0, 0.7071054825112364), 0)\n",
      "joint[ 2 ]= (2, b'right_steering_hinge_joint', 0, 9, 8, 1, 0.0, 0.0, -1.0, 1.0, 10.0, 100.0, b'right_steering_hinge', (-1.0, 0.0, 0.0), (0.125, -0.1, 0.0), (0.0, -0.7071080798594735, 0.0, 0.7071054825112364), -1)\n",
      "joint[ 3 ]= (3, b'right_front_wheel_joint', 0, 10, 9, 1, 0.0, 0.0, 0.0, -1.0, 10.0, 100.0, b'right_front_wheel', (0.0, 0.0, -1.0), (0.0, 0.0, 0.0), (-0.7071080798594735, 0.0, 0.0, 0.7071054825112364), 2)\n",
      "joint[ 4 ]= (4, b'hokuyo_joint', 4, -1, -1, 0, 0.0, 0.0, 0.0, -1.0, 0.0, 0.0, b'laser', (0.0, 0.0, 0.0), (0.065, 0.0, 0.075), (0.0, 0.0, 0.0, 1.0), -1)\n",
      "joint[ 5 ]= (5, b'zed_camera_joint', 4, -1, -1, 0, 0.0, 0.0, 0.0, -1.0, 0.0, 0.0, b'zed_camera_link', (0.0, 0.0, 0.0), (0.19, 0.0, 0.04), (0.0, 0.0, 0.0, 1.0), -1)\n",
      "joint[ 6 ]= (6, b'zed_camera_left_joint', 4, -1, -1, 0, 0.0, 0.0, 0.0, -1.0, 0.0, 0.0, b'camera_link', (0.0, 0.0, 0.0), (0.0, 0.06, 0.0), (0.0, 0.0, 0.0, 1.0), 5)\n",
      "joint[ 7 ]= (7, b'zed_camera_right_joint', 4, -1, -1, 0, 0.0, 0.0, 0.0, -1.0, 0.0, 0.0, b'zed_camera_right_link', (0.0, 0.0, 0.0), (0.0, -0.06, 0.0), (0.0, 0.0, 0.0, 1.0), 5)\n",
      "joint[ 8 ]= (8, b'diff_ring_chassis', 0, 11, 10, 1, 0.0, 0.0, 0.0, -1.0, 0.0, 0.0, b'diff_ring', (0.0, 1.0, 0.0), (-0.2, 0.0, 0.0), (0.0, 0.0, 0.0, 1.0), -1)\n",
      "joint[ 9 ]= (9, b'diff_spiderA_ring', 0, 12, 11, 1, 0.0, 0.0, 0.0, -1.0, 0.0, 0.0, b'diff_spiderA', (0.0, 1.0, 0.0), (0.0, 0.0, 0.0), (0.0, 0.0, -0.7071063120935576, 0.7071072502792263), 8)\n",
      "joint[ 10 ]= (10, b'diff_spiderB_ring', 0, 13, 12, 1, 0.0, 0.0, 0.0, -1.0, 0.0, 0.0, b'diff_spiderB', (0.0, 1.0, 0.0), (0.0, 0.0, 0.0), (0.0, 0.0, 0.7071063120935576, 0.7071072502792263), 8)\n",
      "joint[ 11 ]= (11, b'diff_sideA_ring', 0, 14, 13, 1, 0.0, 0.0, 0.0, -1.0, 0.0, 0.0, b'diff_sideA', (0.0, 1.0, 0.0), (0.0, 0.0, 0.0), (0.0, 0.0, 0.0, 1.0), 8)\n",
      "joint[ 12 ]= (12, b'left_rear_wheel_joint', 4, -1, -1, 0, 0.0, 0.0, 0.0, -1.0, 0.0, 0.0, b'left_rear_wheel', (0.0, 0.0, 0.0), (0.0, 0.1, 0.0), (-0.7071080798594735, 0.0, 0.0, 0.7071054825112364), 11)\n",
      "joint[ 13 ]= (13, b'diff_sideB_ring', 0, 15, 14, 1, 0.0, 0.0, 0.0, -1.0, 0.0, 0.0, b'diff_sideB', (0.0, 1.0, 0.0), (0.0, 0.0, 0.0), (0.0, 0.0, 0.0, 1.0), 8)\n",
      "joint[ 14 ]= (14, b'right_rear_wheel_joint', 4, -1, -1, 0, 0.0, 0.0, 0.0, -1.0, 0.0, 0.0, b'right_rear_wheel', (0.0, 0.0, 0.0), (0.0, -0.1, 0.0), (-0.7071080798594735, 0.0, 0.0, 0.7071054825112364), 13)\n",
      "joint[ 15 ]= (15, b'diff2_ring_chassis', 0, 16, 15, 1, 0.0, 0.0, 0.0, -1.0, 0.0, 0.0, b'diff2_ring', (0.0, 1.0, 0.0), (0.12, 0.0, 0.0), (0.0, 0.0, 0.0, 1.0), -1)\n",
      "joint[ 16 ]= (16, b'diff2_spiderA_ring', 0, 17, 16, 1, 0.0, 0.0, 0.0, -1.0, 0.0, 0.0, b'diff2_spiderA', (0.0, 1.0, 0.0), (0.0, 0.0, 0.0), (0.0, 0.0, -0.7071063120935576, 0.7071072502792263), 15)\n",
      "joint[ 17 ]= (17, b'diff2_spiderB_ring', 0, 18, 17, 1, 0.0, 0.0, 0.0, -1.0, 0.0, 0.0, b'diff2_spiderB', (0.0, 1.0, 0.0), (0.0, 0.0, 0.0), (0.0, 0.0, 0.7071063120935576, 0.7071072502792263), 15)\n",
      "joint[ 18 ]= (18, b'diff2_sideA_ring', 0, 19, 18, 1, 0.0, 0.0, 0.0, -1.0, 0.0, 0.0, b'diff2_sideA', (0.0, 1.0, 0.0), (0.0, 0.0, 0.0), (0.0, 0.0, 0.0, 1.0), 15)\n",
      "joint[ 19 ]= (19, b'diff2_sideB_ring', 0, 20, 19, 1, 0.0, 0.0, 0.0, -1.0, 0.0, 0.0, b'diff2_sideB', (0.0, 1.0, 0.0), (0.0, 0.0, 0.0), (0.0, 0.0, 0.0, 1.0), 15)\n",
      "0.0 50.0\n",
      "Stopping Car.\n",
      "50 50.0\n",
      "-50 50.0\n",
      "50 50.0\n",
      "0 50.0\n",
      "Stopping Car.\n"
     ]
    }
   ],
   "source": [
    "import pybullet as p\n",
    "import time\n",
    "import math\n",
    "\n",
    "class Simulation(object):\n",
    "\n",
    "    def __init__(self):\n",
    "\n",
    "        self.id=p.connect(p.GUI)\n",
    "\n",
    "        p.resetSimulation()\n",
    "\n",
    "        p.setGravity(0,0,-10)\n",
    "        useRealTimeSim = 0\n",
    "\n",
    "        p.setTimeStep(1./120.)\n",
    "        p.setRealTimeSimulation(useRealTimeSim) # either this\n",
    "\n",
    "        track = p.loadURDF(\"plane.urdf\")\n",
    "\n",
    "        self.objects=[]\n",
    "\n",
    "    def disconnect(self):\n",
    "        p.disconnect(self.id)\n",
    "\n",
    "    def update(self):\n",
    "        for obj in self.objects:\n",
    "            obj.update()\n",
    "        p.stepSimulation()\n",
    "\n",
    "\n",
    "\n",
    "class Car(object):\n",
    "\n",
    "    def __init__(self,initial_position=[0,0,0.3]):\n",
    "\n",
    "        self.car=p.loadURDF(\"f10_racecar/racecar_differential.urdf\",\n",
    "                        initial_position)\n",
    "\n",
    "        self.action_taken=True\n",
    "        self.wheel_velocity_value=0.0\n",
    "        self.max_force_value=50.0\n",
    "        self.steering_value=0.0\n",
    "\n",
    "\n",
    "        car=self.car\n",
    "        for wheel in range(p.getNumJoints(car)):\n",
    "            print(\"joint[\",wheel,\"]=\", p.getJointInfo(car,wheel))\n",
    "            p.setJointMotorControl2(car,wheel,p.VELOCITY_CONTROL,targetVelocity=0,force=0)\n",
    "            p.getJointInfo(self.car,wheel)    \n",
    "\n",
    "            c = p.createConstraint(car,9,car,11,jointType=p.JOINT_GEAR,jointAxis =[0,1,0],parentFramePosition=[0,0,0],childFramePosition=[0,0,0])\n",
    "            p.changeConstraint(c,gearRatio=1, maxForce=10000)\n",
    "\n",
    "            c = p.createConstraint(car,10,car,13,jointType=p.JOINT_GEAR,jointAxis =[0,1,0],parentFramePosition=[0,0,0],childFramePosition=[0,0,0])\n",
    "            p.changeConstraint(c,gearRatio=-1, maxForce=10000)\n",
    "\n",
    "            c = p.createConstraint(car,9,car,13,jointType=p.JOINT_GEAR,jointAxis =[0,1,0],parentFramePosition=[0,0,0],childFramePosition=[0,0,0])\n",
    "            p.changeConstraint(c,gearRatio=-1, maxForce=10000)\n",
    "\n",
    "            c = p.createConstraint(car,16,car,18,jointType=p.JOINT_GEAR,jointAxis =[0,1,0],parentFramePosition=[0,0,0],childFramePosition=[0,0,0])\n",
    "            p.changeConstraint(c,gearRatio=1, maxForce=10000)\n",
    "\n",
    "\n",
    "            c = p.createConstraint(car,16,car,19,jointType=p.JOINT_GEAR,jointAxis =[0,1,0],parentFramePosition=[0,0,0],childFramePosition=[0,0,0])\n",
    "            p.changeConstraint(c,gearRatio=-1, maxForce=10000)\n",
    "\n",
    "            c = p.createConstraint(car,17,car,19,jointType=p.JOINT_GEAR,jointAxis =[0,1,0],parentFramePosition=[0,0,0],childFramePosition=[0,0,0])\n",
    "            p.changeConstraint(c,gearRatio=-1, maxForce=10000)\n",
    "\n",
    "            c = p.createConstraint(car,1,car,18,jointType=p.JOINT_GEAR,jointAxis =[0,1,0],parentFramePosition=[0,0,0],childFramePosition=[0,0,0])\n",
    "            p.changeConstraint(c,gearRatio=-1, gearAuxLink = 15, maxForce=10000)\n",
    "            c = p.createConstraint(car,3,car,19,jointType=p.JOINT_GEAR,jointAxis =[0,1,0],parentFramePosition=[0,0,0],childFramePosition=[0,0,0])\n",
    "            p.changeConstraint(c,gearRatio=-1, gearAuxLink = 15,maxForce=10000)\n",
    "\n",
    "        self.update()\n",
    "\n",
    "\n",
    "    @property\n",
    "    def yaw(self):\n",
    "        import math\n",
    "        carPos,carOrn = p.getBasePositionAndOrientation(self.car)\n",
    "        carEuler = p.getEulerFromQuaternion(carOrn)\n",
    "        carYaw = carEuler[2]*360/(2.*math.pi)-90\n",
    "        return carYaw\n",
    "        \n",
    "    @property\n",
    "    def steering(self):\n",
    "        return self.steering_value\n",
    "\n",
    "    @steering.setter\n",
    "    def steering(self,val):\n",
    "        self.steering_value=val\n",
    "        self.action_taken=True\n",
    "\n",
    "    @property\n",
    "    def max_force(self):\n",
    "        return self.max_force_value\n",
    "\n",
    "    @max_force.setter\n",
    "    def max_force(self,val):\n",
    "        self.max_force_value=val\n",
    "        self.action_taken=True\n",
    "\n",
    "\n",
    "    @property\n",
    "    def wheel_velocity(self):\n",
    "        return self.wheel_velocity_value\n",
    "\n",
    "    @wheel_velocity.setter\n",
    "    def wheel_velocity(self,val):\n",
    "        if val<-50:\n",
    "            val=-50\n",
    "\n",
    "        if val>50:\n",
    "            val=50\n",
    "\n",
    "        if val==self.wheel_velocity_value:  # no change\n",
    "            return\n",
    "\n",
    "        self.wheel_velocity_value=val\n",
    "        self.action_taken=True\n",
    "\n",
    "    def update(self):\n",
    "        if not self.action_taken:\n",
    "            return\n",
    "\n",
    "        steering = [0,2]  # ids from the model for the steering mechanism\n",
    "        wheels = [8,15]\n",
    "\n",
    "        print(self.wheel_velocity,self.max_force_value)\n",
    "        for wheel in wheels:\n",
    "            p.setJointMotorControl2(self.car,wheel,p.VELOCITY_CONTROL,targetVelocity=self.wheel_velocity,\n",
    "            force=self.max_force_value)\n",
    "            \n",
    "        self.action_taken=False\n",
    "\n",
    "        for steer in steering:\n",
    "            p.setJointMotorControl2(self.car,steer,p.POSITION_CONTROL,targetPosition=-self.steering)\n",
    "            \n",
    "\n",
    "\n",
    "class CameraView(object):\n",
    "\n",
    "    def __init__(self,car):\n",
    "        self.car=car\n",
    "        self.camInfo = p.getDebugVisualizerCamera()\n",
    "        self.viewtime=-100\n",
    "\n",
    "    def update(self):\n",
    "        nowTime = time.time()\n",
    "        lastTime=self.viewtime\n",
    "        car=self.car.car\n",
    "        zed_camera_joint = 5\n",
    "\n",
    "        if (nowTime-lastTime>.1):\n",
    "            ls = p.getLinkState(car,zed_camera_joint, computeForwardKinematics=True)\n",
    "            camPos = ls[0]\n",
    "            camOrn = ls[1]\n",
    "            camMat = p.getMatrixFromQuaternion(camOrn)\n",
    "            upVector = [0,0,1]\n",
    "            forwardVec = [camMat[0],camMat[3],camMat[6]]\n",
    "            #sideVec =  [camMat[1],camMat[4],camMat[7]]\n",
    "            camUpVec =  [camMat[2],camMat[5],camMat[8]]\n",
    "            camTarget = [camPos[0]+forwardVec[0]*10,camPos[1]+forwardVec[1]*10,camPos[2]+forwardVec[2]*10]\n",
    "            camUpTarget = [camPos[0]+camUpVec[0],camPos[1]+camUpVec[1],camPos[2]+camUpVec[2]]\n",
    "            viewMat = p.computeViewMatrix(camPos, camTarget, camUpVec)\n",
    "            projMat = self.camInfo[3]\n",
    "            #p.getCameraImage(320,200,viewMatrix=viewMat,projectionMatrix=projMat, flags=p.ER_NO_SEGMENTATION_MASK, renderer=p.ER_BULLET_HARDWARE_OPENGL)\n",
    "            p.getCameraImage(320,200,viewMatrix=viewMat,projectionMatrix=projMat, renderer=p.ER_BULLET_HARDWARE_OPENGL)\n",
    "            self.viewtime=lastTime=nowTime\n",
    "\n",
    "import time\n",
    "class Timer(object):\n",
    "\n",
    "    def __init__(self):\n",
    "        self.reset()\n",
    "\n",
    "    def reset(self):\n",
    "        self.last_time=time.time()\n",
    "\n",
    "    def __call__(self):\n",
    "        return time.time()-self.last_time\n",
    "\n",
    "    def __repr__(self):\n",
    "        from datetime import timedelta\n",
    "        dt=timedelta(seconds=self())\n",
    "        return str(dt)\n",
    "\n",
    "import threading\n",
    "def run_car(car):\n",
    "\n",
    "    print(\"Stopping Car.\")\n",
    "\n",
    "    car.wheel_velocity=50\n",
    "    time.sleep(2)\n",
    "\n",
    "    car.wheel_velocity=-50\n",
    "    car.steering=2\n",
    "    time.sleep(2)\n",
    "\n",
    "\n",
    "    car.steering=0\n",
    "    car.wheel_velocity=50\n",
    "    time.sleep(2)\n",
    "\n",
    "\n",
    "    car.wheel_velocity=0\n",
    "    time.sleep(2)\n",
    "\n",
    "\n",
    "    print(\"Stopping Car.\")\n",
    "\n",
    "\n",
    "sim=Simulation()\n",
    "\n",
    "otherCar=Car([0,1,.3])\n",
    "car=Car([0,0,.3])\n",
    "view=CameraView(car)\n",
    "\n",
    "sim.objects=[car,otherCar,view]\n",
    "\n",
    "sim.update()\n",
    "\n",
    "thread = threading.Thread(target=run_car, args=(car,))\n",
    "thread.start()\n",
    "\n",
    "tm=Timer()\n",
    "\n",
    "try:\n",
    "    while (True):\n",
    "        sim.update()\n",
    "        time.sleep(0.01)\n",
    "\n",
    "        if not thread.isAlive():\n",
    "            break\n",
    "\n",
    "except KeyboardInterrupt:\n",
    "    pass\n",
    "\n",
    "sim.disconnect()"
   ]
  },
  {
   "cell_type": "code",
   "execution_count": 2,
   "metadata": {},
   "outputs": [
    {
     "ename": "error",
     "evalue": "Not connected to physics server.",
     "output_type": "error",
     "traceback": [
      "\u001b[0;31m---------------------------------------------------------------------------\u001b[0m",
      "\u001b[0;31merror\u001b[0m                                     Traceback (most recent call last)",
      "\u001b[0;32m<ipython-input-2-56e68c391b8f>\u001b[0m in \u001b[0;36m<module>\u001b[0;34m\u001b[0m\n\u001b[0;32m----> 1\u001b[0;31m \u001b[0msim\u001b[0m\u001b[0;34m.\u001b[0m\u001b[0mdisconnect\u001b[0m\u001b[0;34m(\u001b[0m\u001b[0;34m)\u001b[0m\u001b[0;34m\u001b[0m\u001b[0;34m\u001b[0m\u001b[0m\n\u001b[0m",
      "\u001b[0;32m<ipython-input-1-754ff58f3a87>\u001b[0m in \u001b[0;36mdisconnect\u001b[0;34m(self)\u001b[0m\n\u001b[1;32m     22\u001b[0m \u001b[0;34m\u001b[0m\u001b[0m\n\u001b[1;32m     23\u001b[0m     \u001b[0;32mdef\u001b[0m \u001b[0mdisconnect\u001b[0m\u001b[0;34m(\u001b[0m\u001b[0mself\u001b[0m\u001b[0;34m)\u001b[0m\u001b[0;34m:\u001b[0m\u001b[0;34m\u001b[0m\u001b[0;34m\u001b[0m\u001b[0m\n\u001b[0;32m---> 24\u001b[0;31m         \u001b[0mp\u001b[0m\u001b[0;34m.\u001b[0m\u001b[0mdisconnect\u001b[0m\u001b[0;34m(\u001b[0m\u001b[0mself\u001b[0m\u001b[0;34m.\u001b[0m\u001b[0mid\u001b[0m\u001b[0;34m)\u001b[0m\u001b[0;34m\u001b[0m\u001b[0;34m\u001b[0m\u001b[0m\n\u001b[0m\u001b[1;32m     25\u001b[0m \u001b[0;34m\u001b[0m\u001b[0m\n\u001b[1;32m     26\u001b[0m     \u001b[0;32mdef\u001b[0m \u001b[0mupdate\u001b[0m\u001b[0;34m(\u001b[0m\u001b[0mself\u001b[0m\u001b[0;34m)\u001b[0m\u001b[0;34m:\u001b[0m\u001b[0;34m\u001b[0m\u001b[0;34m\u001b[0m\u001b[0m\n",
      "\u001b[0;31merror\u001b[0m: Not connected to physics server."
     ]
    }
   ],
   "source": [
    "sim.disconnect()"
   ]
  },
  {
   "cell_type": "code",
   "execution_count": 2,
   "metadata": {},
   "outputs": [],
   "source": [
    "del sim"
   ]
  },
  {
   "cell_type": "code",
   "execution_count": 4,
   "metadata": {},
   "outputs": [],
   "source": [
    "del car "
   ]
  },
  {
   "cell_type": "code",
   "execution_count": 5,
   "metadata": {},
   "outputs": [],
   "source": [
    "del otherCar"
   ]
  },
  {
   "cell_type": "code",
   "execution_count": 6,
   "metadata": {},
   "outputs": [],
   "source": [
    "del view"
   ]
  },
  {
   "cell_type": "code",
   "execution_count": 7,
   "metadata": {},
   "outputs": [
    {
     "data": {
      "text/plain": [
       "['CameraView',\n",
       " 'Car',\n",
       " 'In',\n",
       " 'Out',\n",
       " 'Simulation',\n",
       " 'Timer',\n",
       " '_',\n",
       " '__',\n",
       " '___',\n",
       " '__builtin__',\n",
       " '__builtins__',\n",
       " '__doc__',\n",
       " '__loader__',\n",
       " '__name__',\n",
       " '__package__',\n",
       " '__spec__',\n",
       " '_dh',\n",
       " '_i',\n",
       " '_i1',\n",
       " '_i2',\n",
       " '_i3',\n",
       " '_i4',\n",
       " '_i5',\n",
       " '_i6',\n",
       " '_i7',\n",
       " '_ih',\n",
       " '_ii',\n",
       " '_iii',\n",
       " '_oh',\n",
       " 'exit',\n",
       " 'get_ipython',\n",
       " 'math',\n",
       " 'p',\n",
       " 'quit',\n",
       " 'run_car',\n",
       " 'thread',\n",
       " 'threading',\n",
       " 'time',\n",
       " 'tm']"
      ]
     },
     "execution_count": 7,
     "metadata": {},
     "output_type": "execute_result"
    }
   ],
   "source": [
    "dir()"
   ]
  },
  {
   "cell_type": "code",
   "execution_count": 8,
   "metadata": {},
   "outputs": [],
   "source": [
    "del In\n",
    "del Out"
   ]
  },
  {
   "cell_type": "code",
   "execution_count": 9,
   "metadata": {},
   "outputs": [],
   "source": [
    "thread.join()"
   ]
  },
  {
   "cell_type": "code",
   "execution_count": 10,
   "metadata": {},
   "outputs": [],
   "source": [
    "del thread"
   ]
  },
  {
   "cell_type": "code",
   "execution_count": 11,
   "metadata": {},
   "outputs": [],
   "source": [
    "del Simulation"
   ]
  },
  {
   "cell_type": "code",
   "execution_count": 12,
   "metadata": {},
   "outputs": [],
   "source": [
    "del CameraView"
   ]
  },
  {
   "cell_type": "code",
   "execution_count": 13,
   "metadata": {},
   "outputs": [],
   "source": [
    "del Car"
   ]
  },
  {
   "cell_type": "code",
   "execution_count": 14,
   "metadata": {},
   "outputs": [
    {
     "data": {
      "text/plain": [
       "<function dir>"
      ]
     },
     "execution_count": 14,
     "metadata": {},
     "output_type": "execute_result"
    }
   ],
   "source": [
    "dir"
   ]
  },
  {
   "cell_type": "code",
   "execution_count": 15,
   "metadata": {},
   "outputs": [
    {
     "data": {
      "text/plain": [
       "['Timer',\n",
       " '_',\n",
       " '_14',\n",
       " '_7',\n",
       " '__',\n",
       " '___',\n",
       " '__builtin__',\n",
       " '__builtins__',\n",
       " '__doc__',\n",
       " '__loader__',\n",
       " '__name__',\n",
       " '__package__',\n",
       " '__spec__',\n",
       " '_dh',\n",
       " '_i',\n",
       " '_i1',\n",
       " '_i10',\n",
       " '_i11',\n",
       " '_i12',\n",
       " '_i13',\n",
       " '_i14',\n",
       " '_i15',\n",
       " '_i2',\n",
       " '_i3',\n",
       " '_i4',\n",
       " '_i5',\n",
       " '_i6',\n",
       " '_i7',\n",
       " '_i8',\n",
       " '_i9',\n",
       " '_ih',\n",
       " '_ii',\n",
       " '_iii',\n",
       " '_oh',\n",
       " 'exit',\n",
       " 'get_ipython',\n",
       " 'math',\n",
       " 'p',\n",
       " 'quit',\n",
       " 'run_car',\n",
       " 'threading',\n",
       " 'time',\n",
       " 'tm']"
      ]
     },
     "execution_count": 15,
     "metadata": {},
     "output_type": "execute_result"
    }
   ],
   "source": [
    "dir()"
   ]
  },
  {
   "cell_type": "code",
   "execution_count": 21,
   "metadata": {},
   "outputs": [],
   "source": [
    "del p"
   ]
  },
  {
   "cell_type": "code",
   "execution_count": 22,
   "metadata": {},
   "outputs": [],
   "source": [
    "del run_car"
   ]
  },
  {
   "cell_type": "code",
   "execution_count": 23,
   "metadata": {},
   "outputs": [],
   "source": [
    "del threading"
   ]
  },
  {
   "cell_type": "code",
   "execution_count": null,
   "metadata": {},
   "outputs": [],
   "source": []
  }
 ],
 "metadata": {
  "kernelspec": {
   "display_name": "Python 3",
   "language": "python",
   "name": "python3"
  },
  "language_info": {
   "codemirror_mode": {
    "name": "ipython",
    "version": 3
   },
   "file_extension": ".py",
   "mimetype": "text/x-python",
   "name": "python",
   "nbconvert_exporter": "python",
   "pygments_lexer": "ipython3",
   "version": "3.7.6"
  }
 },
 "nbformat": 4,
 "nbformat_minor": 4
}
